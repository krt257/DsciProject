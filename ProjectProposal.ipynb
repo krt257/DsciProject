{
 "cells": [
  {
   "cell_type": "markdown",
   "id": "f74f6dc6-3371-4271-a57f-1c02e7d04792",
   "metadata": {},
   "source": [
    "DSCI 100 Project"
   ]
  },
  {
   "cell_type": "markdown",
   "id": "0b2d1c2a-345a-4f5e-9d44-cedecebc3a75",
   "metadata": {},
   "source": [
    "\n",
    "Project Proposal Individual"
   ]
  },
  {
   "cell_type": "markdown",
   "id": "1315f550-6054-4e35-b7bb-57d76ef16726",
   "metadata": {},
   "source": []
  },
  {
   "cell_type": "code",
   "execution_count": null,
   "id": "8a0b8d59-58e8-43ee-8f4a-924f3514334c",
   "metadata": {},
   "outputs": [],
   "source": []
  }
 ],
 "metadata": {
  "kernelspec": {
   "display_name": "R",
   "language": "R",
   "name": "ir"
  },
  "language_info": {
   "codemirror_mode": "r",
   "file_extension": ".r",
   "mimetype": "text/x-r-source",
   "name": "R",
   "pygments_lexer": "r",
   "version": "4.3.3"
  }
 },
 "nbformat": 4,
 "nbformat_minor": 5
}

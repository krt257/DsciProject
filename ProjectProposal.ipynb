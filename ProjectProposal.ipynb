{
 "cells": [
  {
   "cell_type": "markdown",
   "id": "f74f6dc6-3371-4271-a57f-1c02e7d04792",
   "metadata": {},
   "source": [
    "DSCI 100 Project"
   ]
  },
  {
   "cell_type": "markdown",
   "id": "0b2d1c2a-345a-4f5e-9d44-cedecebc3a75",
   "metadata": {},
   "source": [
    "\n",
    "Project Proposal Individual\n",
    "\n",
    "\n",
    "\n",
    "Personal Question Focus : Question 2 \n",
    "\n",
    "Question 2: We would like to know which \"kinds\" of players are most likely to contribute a large amount of data so that we can target those players in our recruiting efforts.\n",
    "\n",
    "\n",
    "\n",
    "Exploratory Data Analysis : \n",
    "\n",
    "\n",
    "KEY FACTORS -> \n",
    "(Experience \n",
    "Age \n",
    "Subscribed (to the newsletter))\n",
    "\n"
   ]
  },
  {
   "cell_type": "code",
   "execution_count": 3,
   "id": "8a0b8d59-58e8-43ee-8f4a-924f3514334c",
   "metadata": {},
   "outputs": [],
   "source": [
    "library(readr)"
   ]
  },
  {
   "cell_type": "code",
   "execution_count": 6,
   "id": "447ba40d-7b88-41aa-90bb-a1e955d1a368",
   "metadata": {},
   "outputs": [
    {
     "name": "stderr",
     "output_type": "stream",
     "text": [
      "\u001b[1mRows: \u001b[22m\u001b[34m196\u001b[39m \u001b[1mColumns: \u001b[22m\u001b[34m7\u001b[39m\n",
      "\u001b[36m──\u001b[39m \u001b[1mColumn specification\u001b[22m \u001b[36m────────────────────────────────────────────────────────\u001b[39m\n",
      "\u001b[1mDelimiter:\u001b[22m \",\"\n",
      "\u001b[31mchr\u001b[39m (4): experience, hashedEmail, name, gender\n",
      "\u001b[32mdbl\u001b[39m (2): played_hours, Age\n",
      "\u001b[33mlgl\u001b[39m (1): subscribe\n",
      "\n",
      "\u001b[36mℹ\u001b[39m Use `spec()` to retrieve the full column specification for this data.\n",
      "\u001b[36mℹ\u001b[39m Specify the column types or set `show_col_types = FALSE` to quiet this message.\n",
      "\u001b[1mRows: \u001b[22m\u001b[34m1535\u001b[39m \u001b[1mColumns: \u001b[22m\u001b[34m5\u001b[39m\n",
      "\u001b[36m──\u001b[39m \u001b[1mColumn specification\u001b[22m \u001b[36m────────────────────────────────────────────────────────\u001b[39m\n",
      "\u001b[1mDelimiter:\u001b[22m \",\"\n",
      "\u001b[31mchr\u001b[39m (3): hashedEmail, start_time, end_time\n",
      "\u001b[32mdbl\u001b[39m (2): original_start_time, original_end_time\n",
      "\n",
      "\u001b[36mℹ\u001b[39m Use `spec()` to retrieve the full column specification for this data.\n",
      "\u001b[36mℹ\u001b[39m Specify the column types or set `show_col_types = FALSE` to quiet this message.\n"
     ]
    }
   ],
   "source": [
    "players_url <- (\"https://raw.githubusercontent.com/krt257/DsciProject/refs/heads/main/players.csv\")\n",
    "sessions_url <- (\"https://raw.githubusercontent.com/krt257/DsciProject/refs/heads/main/sessions.csv\")\n",
    "\n",
    "players_data <- read_csv(players_url)\n",
    "sessions_data <- read_csv(sessions_url)\n",
    "\n",
    "# players_data\n",
    "# sessions_data"
   ]
  },
  {
   "cell_type": "code",
   "execution_count": 8,
   "id": "c16231ff-d365-43ae-aadd-f9571a4d3453",
   "metadata": {},
   "outputs": [
    {
     "name": "stdout",
     "output_type": "stream",
     "text": [
      "[1] \"Players\"\n"
     ]
    },
    {
     "data": {
      "text/plain": [
       "  experience        subscribe       hashedEmail         played_hours    \n",
       " Length:196         Mode :logical   Length:196         Min.   :  0.000  \n",
       " Class :character   FALSE:52        Class :character   1st Qu.:  0.000  \n",
       " Mode  :character   TRUE :144       Mode  :character   Median :  0.100  \n",
       "                                                       Mean   :  5.846  \n",
       "                                                       3rd Qu.:  0.600  \n",
       "                                                       Max.   :223.100  \n",
       "                                                                        \n",
       "     name              gender               Age       \n",
       " Length:196         Length:196         Min.   : 8.00  \n",
       " Class :character   Class :character   1st Qu.:17.00  \n",
       " Mode  :character   Mode  :character   Median :19.00  \n",
       "                                       Mean   :20.52  \n",
       "                                       3rd Qu.:22.00  \n",
       "                                       Max.   :50.00  \n",
       "                                       NA's   :2      "
      ]
     },
     "metadata": {},
     "output_type": "display_data"
    },
    {
     "name": "stdout",
     "output_type": "stream",
     "text": [
      "[1] \"Sessions\"\n"
     ]
    },
    {
     "data": {
      "text/plain": [
       " hashedEmail         start_time          end_time         original_start_time\n",
       " Length:1535        Length:1535        Length:1535        Min.   :1.712e+12  \n",
       " Class :character   Class :character   Class :character   1st Qu.:1.716e+12  \n",
       " Mode  :character   Mode  :character   Mode  :character   Median :1.719e+12  \n",
       "                                                          Mean   :1.719e+12  \n",
       "                                                          3rd Qu.:1.722e+12  \n",
       "                                                          Max.   :1.727e+12  \n",
       "                                                                             \n",
       " original_end_time  \n",
       " Min.   :1.712e+12  \n",
       " 1st Qu.:1.716e+12  \n",
       " Median :1.719e+12  \n",
       " Mean   :1.719e+12  \n",
       " 3rd Qu.:1.722e+12  \n",
       " Max.   :1.727e+12  \n",
       " NA's   :2          "
      ]
     },
     "metadata": {},
     "output_type": "display_data"
    }
   ],
   "source": [
    "print(\"Players\")\n",
    "summary(players_data)\n",
    "print(\"Sessions\")\n",
    "summary(sessions_data)"
   ]
  },
  {
   "cell_type": "code",
   "execution_count": 10,
   "id": "0e340b3d-4fa1-46a6-99ed-3b814fc69606",
   "metadata": {},
   "outputs": [],
   "source": [
    "#Clear Duplicates\n",
    "\n",
    "\n",
    "players_data <- players_data[!duplicated(players_data), ]\n",
    "sessions_data <- sessions_data[!duplicated(sessions_data), ]"
   ]
  },
  {
   "cell_type": "code",
   "execution_count": 13,
   "id": "2ce75867-4120-489b-b6ba-9a994505a897",
   "metadata": {},
   "outputs": [],
   "source": [
    "colnames(sessions_data)[colnames(sessions_data) == \"Age\"] <- \"player_age\""
   ]
  },
  {
   "cell_type": "code",
   "execution_count": 14,
   "id": "c89fdab0-3283-459b-a1fe-69eb675f3d37",
   "metadata": {},
   "outputs": [
    {
     "name": "stdout",
     "output_type": "stream",
     "text": [
      "[1] \"Players\"\n"
     ]
    },
    {
     "data": {
      "text/plain": [
       "  experience        subscribe       hashedEmail         played_hours    \n",
       " Length:196         Mode :logical   Length:196         Min.   :  0.000  \n",
       " Class :character   FALSE:52        Class :character   1st Qu.:  0.000  \n",
       " Mode  :character   TRUE :144       Mode  :character   Median :  0.100  \n",
       "                                                       Mean   :  5.846  \n",
       "                                                       3rd Qu.:  0.600  \n",
       "                                                       Max.   :223.100  \n",
       "                                                                        \n",
       "     name              gender               Age       \n",
       " Length:196         Length:196         Min.   : 8.00  \n",
       " Class :character   Class :character   1st Qu.:17.00  \n",
       " Mode  :character   Mode  :character   Median :19.00  \n",
       "                                       Mean   :20.52  \n",
       "                                       3rd Qu.:22.00  \n",
       "                                       Max.   :50.00  \n",
       "                                       NA's   :2      "
      ]
     },
     "metadata": {},
     "output_type": "display_data"
    },
    {
     "name": "stdout",
     "output_type": "stream",
     "text": [
      "[1] \"Sessions\"\n"
     ]
    },
    {
     "data": {
      "text/plain": [
       " hashedEmail         start_time          end_time         original_start_time\n",
       " Length:1535        Length:1535        Length:1535        Min.   :1.712e+12  \n",
       " Class :character   Class :character   Class :character   1st Qu.:1.716e+12  \n",
       " Mode  :character   Mode  :character   Mode  :character   Median :1.719e+12  \n",
       "                                                          Mean   :1.719e+12  \n",
       "                                                          3rd Qu.:1.722e+12  \n",
       "                                                          Max.   :1.727e+12  \n",
       "                                                                             \n",
       " original_end_time  \n",
       " Min.   :1.712e+12  \n",
       " 1st Qu.:1.716e+12  \n",
       " Median :1.719e+12  \n",
       " Mean   :1.719e+12  \n",
       " 3rd Qu.:1.722e+12  \n",
       " Max.   :1.727e+12  \n",
       " NA's   :2          "
      ]
     },
     "metadata": {},
     "output_type": "display_data"
    }
   ],
   "source": [
    "print(\"Players\")\n",
    "summary(players_data)\n",
    "print(\"Sessions\")\n",
    "summary(sessions_data)"
   ]
  },
  {
   "cell_type": "code",
   "execution_count": 15,
   "id": "3de16030-5aff-49c6-9a1b-6066ee8d99e9",
   "metadata": {},
   "outputs": [
    {
     "name": "stderr",
     "output_type": "stream",
     "text": [
      "\n",
      "Attaching package: ‘lubridate’\n",
      "\n",
      "\n",
      "The following objects are masked from ‘package:base’:\n",
      "\n",
      "    date, intersect, setdiff, union\n",
      "\n",
      "\n"
     ]
    },
    {
     "ename": "ERROR",
     "evalue": "Error in .local(x, ...): unused argument (origin = \"1970-01-01\")\n",
     "output_type": "error",
     "traceback": [
      "Error in .local(x, ...): unused argument (origin = \"1970-01-01\")\nTraceback:\n",
      "1. as_datetime(sessions_data$start_time, origin = \"1970-01-01\")",
      "2. as_datetime(sessions_data$start_time, origin = \"1970-01-01\")"
     ]
    }
   ],
   "source": [
    "#"
   ]
  },
  {
   "cell_type": "code",
   "execution_count": null,
   "id": "a81ff93e-5498-4032-a590-90e2127f5855",
   "metadata": {},
   "outputs": [],
   "source": []
  }
 ],
 "metadata": {
  "kernelspec": {
   "display_name": "R",
   "language": "R",
   "name": "ir"
  },
  "language_info": {
   "codemirror_mode": "r",
   "file_extension": ".r",
   "mimetype": "text/x-r-source",
   "name": "R",
   "pygments_lexer": "r",
   "version": "4.3.3"
  }
 },
 "nbformat": 4,
 "nbformat_minor": 5
}

{
 "cells": [
  {
   "cell_type": "markdown",
   "id": "f74f6dc6-3371-4271-a57f-1c02e7d04792",
   "metadata": {},
   "source": [
    "DSCI 100 Project"
   ]
  },
  {
   "cell_type": "code",
   "execution_count": null,
   "id": "7c64a7cc-c654-4cae-9055-cf660e4584da",
   "metadata": {},
   "outputs": [],
   "source": []
  }
 ],
 "metadata": {
  "kernelspec": {
   "display_name": "R",
   "language": "R",
   "name": "ir"
  },
  "language_info": {
   "codemirror_mode": "r",
   "file_extension": ".r",
   "mimetype": "text/x-r-source",
   "name": "R",
   "pygments_lexer": "r",
   "version": "4.3.3"
  }
 },
 "nbformat": 4,
 "nbformat_minor": 5
}

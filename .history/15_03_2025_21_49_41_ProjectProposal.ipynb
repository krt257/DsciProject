{
 "cells": [
  {
   "cell_type": "markdown",
   "id": "f74f6dc6-3371-4271-a57f-1c02e7d04792",
   "metadata": {},
   "source": [
    "DSCI 100 Project"
   ]
  },
  {
   "cell_type": "markdown",
   "id": "0b2d1c2a-345a-4f5e-9d44-cedecebc3a75",
   "metadata": {},
   "source": [
    "\n",
    "Project Proposal Individual"
   ]
  },
  {
   "cell_type": "code",
   "execution_count": null,
   "id": "8a0b8d59-58e8-43ee-8f4a-924f3514334c",
   "metadata": {},
   "outputs": [],
   "source": [
    "library(readr)"
   ]
  },
  {
   "cell_type": "code",
   "execution_count": null,
   "id": "447ba40d-7b88-41aa-90bb-a1e955d1a368",
   "metadata": {},
   "outputs": [],
   "source": [
    "players_url <- (\"https://raw.githubusercontent.com/krt257/DsciProject/refs/heads/main/players.csv\")\n",
    "sessions_url <- (\"https://raw.githubusercontent.com/krt257/DsciProject/refs/heads/main/sessions.csv\")\n",
    "\n",
    "players_data <- read_csv(players_url)\n",
    "sessions_data <- read_csv(sessions_url)\n",
    "\n",
    "# players_data\n",
    "# sessions_data"
   ]
  },
  {
   "cell_type": "code",
   "execution_count": null,
   "id": "c16231ff-d365-43ae-aadd-f9571a4d3453",
   "metadata": {},
   "outputs": [],
   "source": [
    "print(\"Players\")\n",
    "summary(players_data)\n",
    "print(\"Sessions\")\n",
    "summary(sessions_data)"
   ]
  },
  {
   "cell_type": "code",
   "execution_count": null,
   "id": "0e340b3d-4fa1-46a6-99ed-3b814fc69606",
   "metadata": {},
   "outputs": [],
   "source": [
    "#Clear Duplicates\n",
    "\n",
    "\n",
    "players_data <- players_data[!duplicated(players_data), ]\n",
    "sessions_data <- sessions_data[!duplicated(sessions_data), ]"
   ]
  },
  {
   "cell_type": "code",
   "execution_count": null,
   "id": "2ce75867-4120-489b-b6ba-9a994505a897",
   "metadata": {},
   "outputs": [],
   "source": [
    "colnames(sessions_data)[colnames(sessions_data) == \"Age\"] <- \"player_age\""
   ]
  },
  {
   "cell_type": "code",
   "execution_count": null,
   "id": "c89fdab0-3283-459b-a1fe-69eb675f3d37",
   "metadata": {},
   "outputs": [],
   "source": [
    "print(\"Players\")\n",
    "summary(players_data)\n",
    "print(\"Sessions\")\n",
    "summary(sessions_data)"
   ]
  },
  {
   "cell_type": "code",
   "execution_count": null,
   "id": "3de16030-5aff-49c6-9a1b-6066ee8d99e9",
   "metadata": {},
   "outputs": [],
   "source": [
    "#"
   ]
  }
 ],
 "metadata": {
  "kernelspec": {
   "display_name": "R",
   "language": "R",
   "name": "ir"
  },
  "language_info": {
   "codemirror_mode": "r",
   "file_extension": ".r",
   "mimetype": "text/x-r-source",
   "name": "R",
   "pygments_lexer": "r",
   "version": "4.3.3"
  }
 },
 "nbformat": 4,
 "nbformat_minor": 5
}

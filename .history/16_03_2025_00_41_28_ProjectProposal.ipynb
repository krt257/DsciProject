{
 "cells": [
  {
   "cell_type": "markdown",
   "id": "f74f6dc6-3371-4271-a57f-1c02e7d04792",
   "metadata": {},
   "source": [
    "DSCI 100 Project"
   ]
  },
  {
   "cell_type": "markdown",
   "id": "0b2d1c2a-345a-4f5e-9d44-cedecebc3a75",
   "metadata": {},
   "source": [
    "\n",
    "Project Proposal Individual\n",
    "\n",
    "\n",
    "\n",
    "Personal Question Focus : Question 2 \n",
    "\n",
    "Question 2: We would like to know which \"kinds\" of players are most likely to contribute a large amount of data so that we can target those players in our recruiting efforts.\n",
    "\n",
    "\n",
    "\n",
    "Exploratory Data Analysis : \n",
    "\n",
    "\n",
    "KEY FACTORS -> \n",
    "(Experience \n",
    "Age \n",
    "Subscribed (to the newsletter))\n",
    "\n"
   ]
  },
  {
   "cell_type": "code",
   "execution_count": null,
   "id": "8a0b8d59-58e8-43ee-8f4a-924f3514334c",
   "metadata": {},
   "outputs": [],
   "source": [
    "library(tidyverse)\n",
    "library(repr)\n",
    "library(tidymodels)"
   ]
  },
  {
   "cell_type": "code",
   "execution_count": null,
   "id": "447ba40d-7b88-41aa-90bb-a1e955d1a368",
   "metadata": {},
   "outputs": [],
   "source": [
    "players_url <- (\"https://raw.githubusercontent.com/krt257/DsciProject/refs/heads/main/players.csv\")\n",
    "sessions_url <- (\"https://raw.githubusercontent.com/krt257/DsciProject/refs/heads/main/sessions.csv\")\n",
    "\n",
    "players_data <- read_csv(players_url)\n",
    "sessions_data <- read_csv(sessions_url)\n",
    "\n",
    "# players_data\n",
    "# sessions_data"
   ]
  },
  {
   "cell_type": "code",
   "execution_count": null,
   "id": "c16231ff-d365-43ae-aadd-f9571a4d3453",
   "metadata": {},
   "outputs": [],
   "source": [
    "print(\"Players\")\n",
    "summary(players_data)\n",
    "print(\"Sessions\")\n",
    "summary(sessions_data)"
   ]
  },
  {
   "cell_type": "code",
   "execution_count": null,
   "id": "0e340b3d-4fa1-46a6-99ed-3b814fc69606",
   "metadata": {},
   "outputs": [],
   "source": [
    "#Clear Duplicates\n",
    "\n",
    "\n",
    "players_data <- players_data[!duplicated(players_data), ]\n",
    "sessions_data <- sessions_data[!duplicated(sessions_data), ]"
   ]
  },
  {
   "cell_type": "code",
   "execution_count": null,
   "id": "2ce75867-4120-489b-b6ba-9a994505a897",
   "metadata": {},
   "outputs": [],
   "source": [
    "colnames(sessions_data)[colnames(sessions_data) == \"Age\"] <- \"player_age\""
   ]
  },
  {
   "cell_type": "code",
   "execution_count": null,
   "id": "c89fdab0-3283-459b-a1fe-69eb675f3d37",
   "metadata": {},
   "outputs": [],
   "source": [
    "print(\"Players\")\n",
    "summary(players_data)\n",
    "print(\"Sessions\")\n",
    "summary(sessions_data)"
   ]
  },
  {
   "cell_type": "code",
   "execution_count": null,
   "id": "3de16030-5aff-49c6-9a1b-6066ee8d99e9",
   "metadata": {},
   "outputs": [],
   "source": [
    "#"
   ]
  },
  {
   "cell_type": "markdown",
   "id": "3dd02319-2671-4cf9-9006-efb7b8b4b9c9",
   "metadata": {},
   "source": [
    "Descriptive Summary of the Dataset:\n",
    "\n",
    "\n",
    "There are a multitude of different variables distinctly present within this dataset we have. Firstly, I will take a look and analyze the \"Players\" dataset or csv file. They contain a multitude of different variables like experience, subscribe, hashedEmail, played_hours, name, gender, Age for Players. In Sessions, they have hashedEmail, start_time, end_time, original_end_time, original_start_time. \n",
    "\n",
    "These variables all represent different aspects of the dataset which we may need. Particularly for question 2, we will need Experience ; Age ; Subscribe.\n",
    "\n",
    "There are some data issues :\n",
    "\n",
    "    - Subscribe should be a boolean (TRUE/FALSE)\n",
    "    \n",
    "    - Some data may seem redundant.\n",
    "    \n",
    "    - There may be a skewed bias in the data inherently based on the way the data is collected, skewing to a younger demographic. However, there may also be issues such as people under 18 having possible restrictions in time allowed to be used playing games.\n",
    "\n",
    "\n",
    "\n",
    "\n",
    "\n",
    "\n",
    "\n",
    "\n"
   ]
  },
  {
   "cell_type": "markdown",
   "id": "8a15b2b1-7c54-4631-b891-f69b60f32f43",
   "metadata": {},
   "source": [
    "The question we want to ask?\n",
    "\n",
    "\n",
    "What kinds of players are most likely to contribute a large amount of data.\n",
    "\n",
    "    - This is important as this would allow us to understand which types of players or which demographics provide the most data, thus allowing researchers to allocate resources more effectively to maximize collection of data.\n",
    "\n",
    "Specific Question?\n",
    "Can we predict a rough guess of how much data a player can provide to us based on their experience, subscription status and session behaviour?\n",
    "\n",
    "    - I believe for this, it would be best to clean up the data into mostly Experience, subscribe, avg_session_duration, session_frequency as our main variables or our independent variables to then allow us to look at this data and then use it to compare against the amount of data each of these user types provide to us. We can then plot it out using a scatterplot graph."
   ]
  },
  {
   "cell_type": "code",
   "execution_count": null,
   "id": "6cc8fcc3-881b-4baa-9f73-a7f3de5c6c43",
   "metadata": {},
   "outputs": [],
   "source": [
    "# Convert Unix timestamps properly\n",
    "sessions_data$start_time <- as.POSIXct(sessions_data$start_time, origin = \"1970-01-01\", tz = \"UTC\")\n",
    "sessions_data$end_time <- as.POSIXct(sessions_data$end_time, origin = \"1970-01-01\", tz = \"UTC\")\n",
    "\n",
    "# Compute session duration for each session\n",
    "sessions_data$session_duration <- as.numeric(difftime(sessions_data$end_time, sessions_data$start_time, units = \"mins\"))\n",
    "\n",
    "\n",
    "\n",
    "\n",
    "mean_values <- players_sessions |>\n",
    "  summarise(\n",
    "    mean_age = mean(Age, na.rm = TRUE),\n",
    "    mean_total_sessions = mean(total_sessions, na.rm = TRUE),\n",
    "    mean_avg_session_duration = mean(avg_session_duration, na.rm = TRUE),\n",
    "    mean_played_hours = mean(played_hours, na.rm = TRUE)\n",
    "  )\n",
    "\n",
    "print(mean_values)"
   ]
  },
  {
   "cell_type": "code",
   "execution_count": null,
   "id": "2197f5a8-f2c5-4f75-903c-f719e07c735d",
   "metadata": {},
   "outputs": [],
   "source": [
    "sessions_summary <- sessions_data |>\n",
    "  group_by(hashedEmail) |>\n",
    "  summarise(\n",
    "    total_sessions = n(),  \n",
    "    avg_session_duration = mean(session_duration, na.rm = TRUE)  \n",
    "  )\n",
    "\n",
    "\n",
    "# Merge with players dataset\n",
    "players_sessions <- merge(players_data, sessions_summary, by = \"hashedEmail\", all.x = TRUE)\n",
    "players_sessions"
   ]
  },
  {
   "cell_type": "code",
   "execution_count": null,
   "id": "ba62a9c6-5e4c-4e47-872b-a20b3204feec",
   "metadata": {},
   "outputs": [],
   "source": [
    "ggplot(players_sessions, aes(x = Age)) +\n",
    "  geom_histogram(binwidth = 2, fill = \"blue\", alpha = 0.7) +\n",
    "  labs(title = \"Distribution of Player Age\", x = \"Age\", y = \"Count\") +\n",
    "  theme_minimal()"
   ]
  },
  {
   "cell_type": "code",
   "execution_count": null,
   "id": "2452ca05-019a-4be2-a7d4-207fcf6f0154",
   "metadata": {},
   "outputs": [],
   "source": [
    "ggplot(players_sessions, aes(x = played_hours)) +\n",
    "  geom_histogram(binwidth = 10, fill = \"red\", alpha = 0.7) +\n",
    "  labs(title = \"Distribution of Total Played Hours\", x = \"Played Hours\", y = \"Count\") +\n",
    "  theme_minimal()"
   ]
  },
  {
   "cell_type": "code",
   "execution_count": null,
   "id": "af790669-670d-445e-b9fc-5445543a8cd4",
   "metadata": {},
   "outputs": [],
   "source": [
    "ggplot(players_sessions, aes(x = played_hours, y = avg_session_duration)) +\n",
    "  geom_point(alpha = 0.6, color = \"purple\") +\n",
    "  labs(title = \"Played Hours vs. Avg Session Duration\", x = \"Total Played Hours\", y = \"Avg Session Duration (minutes)\") +\n",
    "  theme_minimal()\n"
   ]
  },
  {
   "cell_type": "code",
   "execution_count": null,
   "id": "dd7f7a60-cec4-44f1-8ecb-9431973ee949",
   "metadata": {},
   "outputs": [],
   "source": []
  },
  {
   "cell_type": "code",
   "execution_count": null,
   "id": "57e02bbf-a560-4a9a-bfb3-c2bf1ef271aa",
   "metadata": {},
   "outputs": [],
   "source": []
  },
  {
   "cell_type": "code",
   "execution_count": null,
   "id": "ff9897aa-b733-4f65-8aa5-f66ab40bd2de",
   "metadata": {},
   "outputs": [],
   "source": []
  },
  {
   "cell_type": "code",
   "execution_count": null,
   "id": "02eeb97f-5934-477d-addf-3d3e3aba0070",
   "metadata": {},
   "outputs": [],
   "source": []
  },
  {
   "cell_type": "code",
   "execution_count": null,
   "id": "243ae72d-a664-4623-b75b-faf7e176b194",
   "metadata": {},
   "outputs": [],
   "source": []
  },
  {
   "cell_type": "code",
   "execution_count": null,
   "id": "fdea636e-0b9c-46cb-8868-42596d8ef4e0",
   "metadata": {},
   "outputs": [],
   "source": []
  },
  {
   "cell_type": "code",
   "execution_count": null,
   "id": "830a35af-0637-4f2a-8210-6368c44bc102",
   "metadata": {},
   "outputs": [],
   "source": []
  },
  {
   "cell_type": "code",
   "execution_count": null,
   "id": "de17aee2-8bda-4b54-bcc1-e2bf58520e2e",
   "metadata": {},
   "outputs": [],
   "source": []
  }
 ],
 "metadata": {
  "kernelspec": {
   "display_name": "R",
   "language": "R",
   "name": "ir"
  },
  "language_info": {
   "codemirror_mode": "r",
   "file_extension": ".r",
   "mimetype": "text/x-r-source",
   "name": "R",
   "pygments_lexer": "r",
   "version": "4.3.3"
  }
 },
 "nbformat": 4,
 "nbformat_minor": 5
}
